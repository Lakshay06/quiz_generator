{
 "cells": [
  {
   "cell_type": "code",
   "execution_count": 1,
   "id": "4f7c267a-4efb-4104-9631-cc23a083005e",
   "metadata": {},
   "outputs": [
    {
     "name": "stdout",
     "output_type": "stream",
     "text": [
      "Collecting ebooklib\n",
      "  Downloading ebooklib-0.19-py3-none-any.whl.metadata (4.1 kB)\n",
      "Collecting fpdf\n",
      "  Downloading fpdf-1.7.2.tar.gz (39 kB)\n",
      "  Preparing metadata (setup.py): started\n",
      "  Preparing metadata (setup.py): finished with status 'done'\n",
      "Requirement already satisfied: beautifulsoup4 in c:\\users\\laksh\\anaconda3\\lib\\site-packages (4.12.3)\n",
      "Requirement already satisfied: lxml in c:\\users\\laksh\\anaconda3\\lib\\site-packages (from ebooklib) (5.2.1)\n",
      "Requirement already satisfied: six in c:\\users\\laksh\\anaconda3\\lib\\site-packages (from ebooklib) (1.16.0)\n",
      "Requirement already satisfied: soupsieve>1.2 in c:\\users\\laksh\\anaconda3\\lib\\site-packages (from beautifulsoup4) (2.5)\n",
      "Downloading ebooklib-0.19-py3-none-any.whl (39 kB)\n",
      "Building wheels for collected packages: fpdf\n",
      "  Building wheel for fpdf (setup.py): started\n",
      "  Building wheel for fpdf (setup.py): finished with status 'done'\n",
      "  Created wheel for fpdf: filename=fpdf-1.7.2-py2.py3-none-any.whl size=40714 sha256=1ab2e679ec7a55aa16d7b4b6da3cafa102a2a9d9edaef941a43882fe4b1d4410\n",
      "  Stored in directory: c:\\users\\laksh\\appdata\\local\\pip\\cache\\wheels\\6e\\62\\11\\dc73d78e40a218ad52e7451f30166e94491be013a7850b5d75\n",
      "Successfully built fpdf\n",
      "Installing collected packages: fpdf, ebooklib\n",
      "Successfully installed ebooklib-0.19 fpdf-1.7.2\n",
      "Note: you may need to restart the kernel to use updated packages.\n"
     ]
    }
   ],
   "source": [
    "pip install ebooklib fpdf beautifulsoup4"
   ]
  },
  {
   "cell_type": "code",
   "execution_count": 3,
   "id": "2c4efe1d-0184-46f8-96f0-a3997e1e2c19",
   "metadata": {},
   "outputs": [
    {
     "ename": "AttributeError",
     "evalue": "module 'ebooklib.epub' has no attribute 'ITEM_DOCUMENT'",
     "output_type": "error",
     "traceback": [
      "\u001b[1;31m---------------------------------------------------------------------------\u001b[0m",
      "\u001b[1;31mAttributeError\u001b[0m                            Traceback (most recent call last)",
      "Cell \u001b[1;32mIn[3], line 19\u001b[0m\n\u001b[0;32m     17\u001b[0m \u001b[38;5;66;03m# Extract and write content\u001b[39;00m\n\u001b[0;32m     18\u001b[0m \u001b[38;5;28;01mfor\u001b[39;00m item \u001b[38;5;129;01min\u001b[39;00m book\u001b[38;5;241m.\u001b[39mget_items():\n\u001b[1;32m---> 19\u001b[0m     \u001b[38;5;28;01mif\u001b[39;00m item\u001b[38;5;241m.\u001b[39mget_type() \u001b[38;5;241m==\u001b[39m epub\u001b[38;5;241m.\u001b[39mITEM_DOCUMENT:\n\u001b[0;32m     20\u001b[0m         soup \u001b[38;5;241m=\u001b[39m BeautifulSoup(item\u001b[38;5;241m.\u001b[39mget_content(), \u001b[38;5;124m'\u001b[39m\u001b[38;5;124mhtml.parser\u001b[39m\u001b[38;5;124m'\u001b[39m)\n\u001b[0;32m     21\u001b[0m         text \u001b[38;5;241m=\u001b[39m soup\u001b[38;5;241m.\u001b[39mget_text(separator\u001b[38;5;241m=\u001b[39m\u001b[38;5;124m\"\u001b[39m\u001b[38;5;130;01m\\n\u001b[39;00m\u001b[38;5;124m\"\u001b[39m, strip\u001b[38;5;241m=\u001b[39m\u001b[38;5;28;01mTrue\u001b[39;00m)\n",
      "\u001b[1;31mAttributeError\u001b[0m: module 'ebooklib.epub' has no attribute 'ITEM_DOCUMENT'"
     ]
    }
   ],
   "source": [
    "from ebooklib import epub\n",
    "from bs4 import BeautifulSoup\n",
    "from fpdf import FPDF\n",
    "\n",
    "# Path to your EPUB file\n",
    "input_path = \"C:/Users/laksh/Downloads/_OceanofPDF.com_Psychology_6th_Edition_-_Daniel_L_Schacter.epub\"\n",
    "output_path = \"C:/Users/laksh/Downloads/Psychology.pdf\"\n",
    "\n",
    "# Load the EPUB\n",
    "book = epub.read_epub(input_path)\n",
    "\n",
    "# Set up PDF\n",
    "pdf = FPDF()\n",
    "pdf.set_auto_page_break(auto=True, margin=15)\n",
    "pdf.set_font(\"Arial\", size=12)\n",
    "\n",
    "# Extract and write content\n",
    "for item in book.get_items():\n",
    "    if item.get_type() == epub.ITEM_DOCUMENT:\n",
    "        soup = BeautifulSoup(item.get_content(), 'html.parser')\n",
    "        text = soup.get_text(separator=\"\\n\", strip=True)\n",
    "\n",
    "        pdf.add_page()\n",
    "        for line in text.split('\\n'):\n",
    "            if line.strip():\n",
    "                pdf.multi_cell(0, 10, line)\n",
    "\n",
    "# Save PDF\n",
    "pdf.output(output_path)\n",
    "print(f\"PDF saved as: {output_path}\")\n"
   ]
  },
  {
   "cell_type": "code",
   "execution_count": null,
   "id": "bc68415d-3363-4030-9c8e-22aa55b1d14c",
   "metadata": {},
   "outputs": [],
   "source": []
  }
 ],
 "metadata": {
  "kernelspec": {
   "display_name": "Python 3 (ipykernel)",
   "language": "python",
   "name": "python3"
  },
  "language_info": {
   "codemirror_mode": {
    "name": "ipython",
    "version": 3
   },
   "file_extension": ".py",
   "mimetype": "text/x-python",
   "name": "python",
   "nbconvert_exporter": "python",
   "pygments_lexer": "ipython3",
   "version": "3.12.7"
  }
 },
 "nbformat": 4,
 "nbformat_minor": 5
}
